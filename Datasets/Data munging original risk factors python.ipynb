{
 "cells": [
  {
   "cell_type": "code",
   "execution_count": 136,
   "metadata": {},
   "outputs": [
    {
     "data": {
      "text/plain": [
       "'P:\\\\Framingham hip\\\\Original datasets of interest'"
      ]
     },
     "execution_count": 136,
     "metadata": {},
     "output_type": "execute_result"
    }
   ],
   "source": [
    "#Data munging\n",
    "#using Dasgupta script to create risk factor ratios in ORIGINAL dataset\n",
    "import numpy as np\n",
    "import pandas as pd\n",
    "import os\n",
    "%matplotlib inline\n",
    "os.chdir('P:\\Framingham hip\\Original datasets of interest')\n",
    "os.getcwd()"
   ]
  },
  {
   "cell_type": "code",
   "execution_count": 137,
   "metadata": {},
   "outputs": [],
   "source": [
    "original = pd.read_csv('original_full_columns_renamed.csv')"
   ]
  },
  {
   "cell_type": "code",
   "execution_count": 138,
   "metadata": {},
   "outputs": [],
   "source": [
    "#beta_1980 beta blockers in 1980 has a funny coding system.  3 = NO and 4 = YES\n",
    "#for some reason, beta_1980 in importing as a string.  Strings are immutable in python.\n",
    "\n",
    "recode ={'3':0,'4':1,'5':0}\n",
    "original['beta_1980'].replace(recode, inplace=True)"
   ]
  },
  {
   "cell_type": "code",
   "execution_count": 139,
   "metadata": {},
   "outputs": [
    {
     "data": {
      "text/plain": [
       "0    2019\n",
       "1     215\n",
       "        2\n",
       "Name: beta_1980, dtype: int64"
      ]
     },
     "execution_count": 139,
     "metadata": {},
     "output_type": "execute_result"
    }
   ],
   "source": [
    "original['beta_1980'].value_counts()"
   ]
  },
  {
   "cell_type": "code",
   "execution_count": 140,
   "metadata": {},
   "outputs": [],
   "source": [
    "#rename beer1980 so it does not cause problems later.\n",
    "original.rename(columns={'Beer1980':'beer_1980'},inplace=True)"
   ]
  },
  {
   "cell_type": "code",
   "execution_count": 141,
   "metadata": {},
   "outputs": [],
   "source": [
    "#estrogen = 8 indicates patient is a man.  Analysis makes most sense to recode as NaN.\n",
    "# estrogen = 2 means they took it in the past but not now.  Recode as 0.\n",
    "recode_estrogen = {8.0:np.NaN, 2.0:0} "
   ]
  },
  {
   "cell_type": "code",
   "execution_count": 142,
   "metadata": {},
   "outputs": [
    {
     "data": {
      "text/plain": [
       "0.0    355\n",
       "1.0     23\n",
       "Name: estrogen_2000, dtype: int64"
      ]
     },
     "execution_count": 142,
     "metadata": {},
     "output_type": "execute_result"
    }
   ],
   "source": [
    "\n",
    "original['estrogen_2000'].replace(recode_estrogen, inplace=True)\n",
    "original['estrogen_2000'].value_counts()"
   ]
  },
  {
   "cell_type": "code",
   "execution_count": 143,
   "metadata": {
    "collapsed": true
   },
   "outputs": [],
   "source": [
    "#estrogen 1990 and estrogen_1980 are strings for some reason.\n",
    "recode_estrogen = {\"8\":np.NaN, \"2\":0}\n",
    "original['estrogen_1990'].replace(recode_estrogen, inplace=True)\n",
    "original['Estrogen_1980'].replace(recode_estrogen, inplace=True)"
   ]
  },
  {
   "cell_type": "code",
   "execution_count": 144,
   "metadata": {},
   "outputs": [
    {
     "data": {
      "text/plain": [
       "0    1995\n",
       "1      30\n",
       "        3\n",
       "0       1\n",
       "Name: Estrogen_1980, dtype: int64"
      ]
     },
     "execution_count": 144,
     "metadata": {},
     "output_type": "execute_result"
    }
   ],
   "source": [
    "original['Estrogen_1980'].value_counts()"
   ]
  },
  {
   "cell_type": "code",
   "execution_count": 145,
   "metadata": {},
   "outputs": [
    {
     "data": {
      "text/plain": [
       "0    1175\n",
       "1      33\n",
       "        1\n",
       "0       1\n",
       "Name: estrogen_1990, dtype: int64"
      ]
     },
     "execution_count": 145,
     "metadata": {},
     "output_type": "execute_result"
    }
   ],
   "source": [
    "original['estrogen_1990'].value_counts()"
   ]
  },
  {
   "cell_type": "code",
   "execution_count": 146,
   "metadata": {
    "scrolled": true
   },
   "outputs": [
    {
     "data": {
      "text/plain": [
       "0.0    355\n",
       "1.0     23\n",
       "Name: estrogen_2000, dtype: int64"
      ]
     },
     "execution_count": 146,
     "metadata": {},
     "output_type": "execute_result"
    }
   ],
   "source": [
    "original['estrogen_2000'].value_counts()"
   ]
  },
  {
   "cell_type": "code",
   "execution_count": 147,
   "metadata": {
    "collapsed": true
   },
   "outputs": [],
   "source": [
    "#==============================================================================\n",
    "# Identify menopause status by year\n",
    "#==============================================================================\n",
    "\n",
    "## Fix type of age columns\n",
    "age_cols = [u for u in original.columns if u.find('age')>-1]\n",
    "for col in age_cols:\n",
    "    original[col] = pd.to_numeric(original[col], errors='coerce')\n",
    "\n",
    "blah = ((original.age16 > original.age_periods_stop) & (original.age_periods_stop < 45)).astype(int)\n",
    "blah[pd.isnull(original.age16) | pd.isnull(original.age_periods_stop)] = np.nan\n",
    "original['menopause_1980'] = blah.copy()\n",
    "\n",
    "blah = ((original.age21 > original.age_periods_stop) & (original.age_periods_stop < 45)).astype(int)\n",
    "blah[pd.isnull(original.age21) | pd.isnull(original.age_periods_stop)] = np.nan\n",
    "original['menopause_1990'] = blah.copy()\n",
    "\n",
    "blah = ((original.age26 > original.age_periods_stop) & (original.age_periods_stop < 45)).astype(int)\n",
    "blah[pd.isnull(original.age26) | pd.isnull(original.age_periods_stop)] = np.nan\n",
    "original['menopause_2000'] = blah.copy()"
   ]
  },
  {
   "cell_type": "code",
   "execution_count": 148,
   "metadata": {},
   "outputs": [
    {
     "name": "stderr",
     "output_type": "stream",
     "text": [
      "C:\\ProgramData\\Anaconda3\\lib\\site-packages\\ipykernel_launcher.py:8: SettingWithCopyWarning: \n",
      "A value is trying to be set on a copy of a slice from a DataFrame.\n",
      "Try using .loc[row_indexer,col_indexer] = value instead\n",
      "\n",
      "See the caveats in the documentation: http://pandas.pydata.org/pandas-docs/stable/indexing.html#indexing-view-versus-copy\n",
      "  \n"
     ]
    }
   ],
   "source": [
    "#==============================================================================\n",
    "# Create tidy data set\n",
    "#==============================================================================\n",
    "\n",
    "original_long = original.melt(id_vars = ['PID'])\n",
    "\n",
    "risk_factors = original_long.loc[original_long['variable'].str.contains('[0-9]{4}$')]\n",
    "risk_factors['variable'] = risk_factors['variable'].str.replace('_wine','wine') # rationalize wine\n",
    "bl = risk_factors['variable'].str.split('_', expand=True).iloc[:,:2] # Split variables and year\n",
    "bl = bl.rename(columns = {0:'vars', 1:'year'})\n",
    "risk_factors = risk_factors.join(bl)\n",
    "risk_factors['value'] = pd.to_numeric(risk_factors['value'], errors='coerce') # Make numeric\n",
    "risk_factors['vars'] = risk_factors['vars'].str.lower() # Make lower case\n",
    "risk_factors = risk_factors.drop('variable',1)\n",
    "\n",
    "\n",
    "bl = risk_factors.pivot_table(index = 'PID', values = 'value',\n",
    "                              columns = ['year','vars'])"
   ]
  },
  {
   "cell_type": "code",
   "execution_count": 149,
   "metadata": {
    "collapsed": true
   },
   "outputs": [],
   "source": [
    "#==============================================================================\n",
    "# Aggregate wines for 2000\n",
    "#==============================================================================\n",
    "\n",
    "d = bl['2000'][['redwine','whitewine','otherwine']]\n",
    "d['wine'] = d.sum(axis = 1)\n",
    "\n",
    "bl['2000','wine'] = d['wine']\n",
    "bl = bl.sort_index(axis=1)\n",
    "bl = bl.drop([('2000','redwine'),('2000','whitewine'), ('2000','otherwine')],1)"
   ]
  },
  {
   "cell_type": "code",
   "execution_count": 150,
   "metadata": {
    "collapsed": true
   },
   "outputs": [],
   "source": [
    "#==============================================================================\n",
    "# Fix smoking in 1980\n",
    "#==============================================================================\n",
    "\n",
    "bl['1980','smoke'] = np.where(bl['1980','smoke']>0, 1, bl['1980','smoke'])"
   ]
  },
  {
   "cell_type": "code",
   "execution_count": 151,
   "metadata": {},
   "outputs": [
    {
     "data": {
      "text/plain": [
       "[('1980', 'beer'),\n",
       " ('1980', 'beta'),\n",
       " ('1980', 'bmi'),\n",
       " ('1980', 'cocktail'),\n",
       " ('1980', 'diab'),\n",
       " ('1980', 'estrogen'),\n",
       " ('1980', 'menopause'),\n",
       " ('1980', 'smoke'),\n",
       " ('1980', 'steroid'),\n",
       " ('1980', 'wine'),\n",
       " ('1990', 'beer'),\n",
       " ('1990', 'beta'),\n",
       " ('1990', 'bmi'),\n",
       " ('1990', 'cocktail'),\n",
       " ('1990', 'diab'),\n",
       " ('1990', 'estrogen'),\n",
       " ('1990', 'menopause'),\n",
       " ('1990', 'smoke'),\n",
       " ('1990', 'steroid'),\n",
       " ('1990', 'wine'),\n",
       " ('2000', 'beer'),\n",
       " ('2000', 'beta'),\n",
       " ('2000', 'bisphosphonate'),\n",
       " ('2000', 'bmi'),\n",
       " ('2000', 'cocktail'),\n",
       " ('2000', 'diab'),\n",
       " ('2000', 'estrogen'),\n",
       " ('2000', 'menopause'),\n",
       " ('2000', 'smoke'),\n",
       " ('2000', 'steroid'),\n",
       " ('2000', 'wine')]"
      ]
     },
     "execution_count": 151,
     "metadata": {},
     "output_type": "execute_result"
    }
   ],
   "source": [
    "list(bl.columns)\n"
   ]
  },
  {
   "cell_type": "code",
   "execution_count": 152,
   "metadata": {},
   "outputs": [],
   "source": [
    "#==============================================================================\n",
    "# Aggregate drinks to get total drinks, then create \n",
    "# RF_ETOH = 1 if drinks > 3\n",
    "#==============================================================================\n",
    "for u in ['1980','1990','2000']:\n",
    "    d = bl[u]\n",
    "    drinks = d[['beer','wine','cocktail']].sum(axis=1)\n",
    "    drinks[drinks <= 3] = 0\n",
    "    drinks[drinks > 3] = 1\n",
    "    bl[u,'rf_etof']= drinks"
   ]
  },
  {
   "cell_type": "code",
   "execution_count": 154,
   "metadata": {},
   "outputs": [],
   "source": [
    "#==============================================================================\n",
    "# Summary\n",
    "#==============================================================================\n",
    "\n",
    "bl['PID'] = bl.index\n",
    "risk_factors = bl.melt(id_vars = 'PID')\n",
    "pd.pivot_table(risk_factors, values ='value', index = 'year', \n",
    "               columns = 'vars', aggfunc=np.nanmean).to_excel('RiskFactors_original.xlsx')"
   ]
  },
  {
   "cell_type": "code",
   "execution_count": 156,
   "metadata": {
    "collapsed": true
   },
   "outputs": [],
   "source": [
    "bl.to_csv('original.munging_done_10-9-17')"
   ]
  },
  {
   "cell_type": "code",
   "execution_count": 157,
   "metadata": {},
   "outputs": [
    {
     "ename": "NameError",
     "evalue": "name 'offspring' is not defined",
     "output_type": "error",
     "traceback": [
      "\u001b[1;31m---------------------------------------------------------------------------\u001b[0m",
      "\u001b[1;31mNameError\u001b[0m                                 Traceback (most recent call last)",
      "\u001b[1;32m<ipython-input-157-fd20be82a4da>\u001b[0m in \u001b[0;36m<module>\u001b[1;34m()\u001b[0m\n\u001b[1;32m----> 1\u001b[1;33m \u001b[0moffspring\u001b[0m\u001b[1;33m[\u001b[0m\u001b[1;34m'examyr4'\u001b[0m\u001b[1;33m]\u001b[0m\u001b[1;33m\u001b[0m\u001b[0m\n\u001b[0m",
      "\u001b[1;31mNameError\u001b[0m: name 'offspring' is not defined"
     ]
    }
   ],
   "source": []
  },
  {
   "cell_type": "code",
   "execution_count": null,
   "metadata": {
    "collapsed": true
   },
   "outputs": [],
   "source": []
  }
 ],
 "metadata": {
  "kernelspec": {
   "display_name": "Python 3",
   "language": "python",
   "name": "python3"
  },
  "language_info": {
   "codemirror_mode": {
    "name": "ipython",
    "version": 3
   },
   "file_extension": ".py",
   "mimetype": "text/x-python",
   "name": "python",
   "nbconvert_exporter": "python",
   "pygments_lexer": "ipython3",
   "version": "3.6.1"
  }
 },
 "nbformat": 4,
 "nbformat_minor": 2
}
